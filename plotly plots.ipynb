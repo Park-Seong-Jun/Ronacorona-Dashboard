{
 "cells": [
  {
   "cell_type": "code",
   "execution_count": 50,
   "id": "a905f447",
   "metadata": {},
   "outputs": [
    {
     "data": {
      "application/vnd.plotly.v1+json": {
       "config": {
        "plotlyServerURL": "https://plot.ly"
       },
       "data": [
        {
         "customdata": [
          [
           "US",
           20397401,
           352844,
           0
          ],
          [
           "India",
           10305788,
           149218,
           9929568
          ],
          [
           "Brazil",
           7703971,
           195541,
           6855372
          ],
          [
           "Russia",
           3153960,
           56798,
           2553467
          ],
          [
           "France",
           2697014,
           64891,
           200822
          ],
          [
           "United Kingdom",
           2549671,
           95917,
           5682
          ],
          [
           "Turkey",
           2220855,
           21093,
           2114760
          ],
          [
           "Italy",
           2129376,
           74621,
           1479988
          ],
          [
           "Spain",
           1928265,
           50837,
           150376
          ],
          [
           "Germany",
           1721839,
           33071,
           1388744
          ],
          [
           "Colombia",
           1654880,
           43495,
           1520548
          ],
          [
           "Argentina",
           1629594,
           43319,
           1426676
          ],
          [
           "Mexico",
           1437185,
           126507,
           1083768
          ],
          [
           "Poland",
           1305774,
           28956,
           1046281
          ],
          [
           "Iran",
           1231429,
           55337,
           995570
          ],
          [
           "Ukraine",
           1096855,
           19437,
           746680
          ],
          [
           "South Africa",
           1073887,
           28887,
           887701
          ],
          [
           "Peru",
           1015137,
           93231,
           951318
          ],
          [
           "Netherlands",
           816616,
           11624,
           9651
          ],
          [
           "Indonesia",
           751270,
           22329,
           617936
          ],
          [
           "Czechia",
           732022,
           11711,
           600073
          ],
          [
           "Belgium",
           648289,
           19581,
           0
          ],
          [
           "Romania",
           636201,
           15841,
           566365
          ],
          [
           "Chile",
           612564,
           16660,
           579203
          ],
          [
           "Canada",
           596582,
           15819,
           494437
          ],
          [
           "Iraq",
           596193,
           12824,
           539817
          ],
          [
           "Bangladesh",
           514500,
           7576,
           458656
          ],
          [
           "Pakistan",
           484362,
           10258,
           438974
          ],
          [
           "Philippines",
           475820,
           9248,
           439895
          ],
          [
           "Switzerland",
           452296,
           7948,
           317600
          ],
          [
           "Morocco",
           440970,
           7425,
           409638
          ],
          [
           "Sweden",
           437379,
           8727,
           0
          ],
          [
           "Israel",
           428510,
           3356,
           379910
          ],
          [
           "Portugal",
           420629,
           6972,
           338668
          ],
          [
           "Saudi Arabia",
           362878,
           6230,
           354081
          ],
          [
           "Austria",
           358774,
           7564,
           334901
          ],
          [
           "Serbia",
           339997,
           3250,
           0
          ],
          [
           "Hungary",
           325278,
           9667,
           157063
          ],
          [
           "Jordan",
           295765,
           3851,
           271834
          ],
          [
           "Slovakia",
           285079,
           2250,
           127190
          ],
          [
           "Nepal",
           261019,
           1864,
           253107
          ],
          [
           "Panama",
           249733,
           4064,
           197928
          ],
          [
           "Japan",
           239005,
           3541,
           193558
          ],
          [
           "Georgia",
           228410,
           2528,
           214992
          ],
          [
           "Azerbaijan",
           219041,
           2670,
           188280
          ],
          [
           "Ecuador",
           213378,
           14051,
           184507
          ],
          [
           "Croatia",
           212007,
           3961,
           199820
          ],
          [
           "United Arab Emirates",
           209678,
           671,
           186019
          ],
          [
           "Bulgaria",
           202540,
           7604,
           120343
          ],
          [
           "Kazakhstan",
           202060,
           2749,
           176774
          ],
          [
           "Belarus",
           196223,
           1433,
           178102
          ],
          [
           "Lebanon",
           183888,
           1479,
           127959
          ],
          [
           "Dominican Republic",
           172218,
           2416,
           131543
          ],
          [
           "Costa Rica",
           169321,
           2185,
           131923
          ],
          [
           "Denmark",
           166567,
           1322,
           131390
          ],
          [
           "Bolivia",
           160985,
           9175,
           132510
          ],
          [
           "Armenia",
           159738,
           2828,
           143355
          ],
          [
           "Kuwait",
           150869,
           936,
           146777
          ],
          [
           "Lithuania",
           147862,
           1841,
           98149
          ],
          [
           "Moldova",
           145258,
           3004,
           131701
          ],
          [
           "Qatar",
           144042,
           245,
           141556
          ],
          [
           "Tunisia",
           140557,
           4730,
           105499
          ],
          [
           "Egypt",
           139471,
           7687,
           112826
          ],
          [
           "Greece",
           139447,
           4881,
           93764
          ],
          [
           "West Bank and Gaza",
           139223,
           1418,
           118926
          ],
          [
           "Guatemala",
           138236,
           4820,
           126606
          ],
          [
           "Oman",
           128867,
           1499,
           121890
          ],
          [
           "Burma",
           125042,
           2697,
           107777
          ],
          [
           "Ethiopia",
           124652,
           1937,
           112251
          ],
          [
           "Slovenia",
           123950,
           2728,
           100868
          ],
          [
           "Honduras",
           122974,
           3160,
           56936
          ],
          [
           "Malaysia",
           115078,
           474,
           91170
          ],
          [
           "Venezuela",
           113884,
           1030,
           107901
          ],
          [
           "Bosnia and Herzegovina",
           112143,
           4086,
           77682
          ],
          [
           "Paraguay",
           108349,
           2262,
           81977
          ],
          [
           "China",
           102649,
           4783,
           90031
          ],
          [
           "Libya",
           100744,
           1487,
           73252
          ],
          [
           "Algeria",
           99897,
           2762,
           67395
          ],
          [
           "Kenya",
           96614,
           1681,
           78802
          ],
          [
           "Ireland",
           93532,
           2248,
           23364
          ],
          [
           "Bahrain",
           92913,
           352,
           90369
          ],
          [
           "Nigeria",
           88587,
           1294,
           74373
          ],
          [
           "North Macedonia",
           83743,
           2510,
           61943
          ],
          [
           "Kyrgyzstan",
           81156,
           1356,
           76148
          ],
          [
           "Uzbekistan",
           77182,
           614,
           75244
          ],
          [
           "Korea, South",
           62593,
           942,
           43578
          ],
          [
           "Singapore",
           58629,
           29,
           58449
          ],
          [
           "Albania",
           58316,
           1181,
           33634
          ],
          [
           "Ghana",
           54930,
           335,
           53758
          ],
          [
           "Afghanistan",
           52513,
           2201,
           41727
          ],
          [
           "Kosovo",
           51502,
           1336,
           41854
          ],
          [
           "Norway",
           49803,
           436,
           17998
          ],
          [
           "Montenegro",
           48589,
           684,
           38780
          ],
          [
           "El Salvador",
           46515,
           1327,
           45960
          ],
          [
           "Luxembourg",
           46415,
           495,
           40978
          ],
          [
           "Sri Lanka",
           43856,
           208,
           36155
          ],
          [
           "Latvia",
           41615,
           644,
           29018
          ],
          [
           "Finland",
           36676,
           598,
           29000
          ],
          [
           "Uganda",
           35511,
           265,
           11878
          ],
          [
           "Australia",
           28460,
           909,
           22573
          ],
          [
           "Estonia",
           28406,
           234,
           19027
          ],
          [
           "Cameroon",
           26848,
           448,
           24892
          ],
          [
           "Sudan",
           25730,
           1468,
           13524
          ],
          [
           "Namibia",
           24545,
           208,
           20727
          ],
          [
           "Cyprus",
           23108,
           126,
           2057
          ],
          [
           "Cote d'Ivoire",
           22563,
           138,
           21981
          ],
          [
           "Zambia",
           20997,
           390,
           18773
          ],
          [
           "Uruguay",
           19753,
           193,
           13990
          ],
          [
           "Senegal",
           19364,
           410,
           17375
          ],
          [
           "Mozambique",
           18794,
           167,
           16680
          ],
          [
           "Congo (Kinshasa)",
           17849,
           591,
           14701
          ],
          [
           "Madagascar",
           17714,
           261,
           17228
          ],
          [
           "Angola",
           17568,
           405,
           11146
          ],
          [
           "Botswana",
           14805,
           42,
           12136
          ],
          [
           "Mauritania",
           14581,
           349,
           11652
          ],
          [
           "Zimbabwe",
           14084,
           369,
           11347
          ],
          [
           "Maldives",
           13804,
           48,
           13150
          ],
          [
           "Guinea",
           13738,
           81,
           13153
          ],
          [
           "Tajikistan",
           13665,
           90,
           12894
          ],
          [
           "Jamaica",
           12915,
           303,
           10532
          ],
          [
           "Malta",
           12909,
           219,
           11178
          ],
          [
           "Cuba",
           12056,
           146,
           10345
          ],
          [
           "Cabo Verde",
           11872,
           113,
           11569
          ],
          [
           "Syria",
           11526,
           717,
           5420
          ],
          [
           "Belize",
           10776,
           248,
           9795
          ],
          [
           "Haiti",
           10015,
           236,
           8624
          ],
          [
           "Gabon",
           9571,
           64,
           9388
          ],
          [
           "Eswatini",
           9482,
           216,
           7073
          ],
          [
           "Rwanda",
           8460,
           94,
           6598
          ],
          [
           "Andorra",
           8117,
           84,
           7463
          ],
          [
           "Bahamas",
           7887,
           171,
           6239
          ],
          [
           "Mali",
           7203,
           271,
           4694
          ],
          [
           "Thailand",
           7163,
           63,
           4299
          ],
          [
           "Trinidad and Tobago",
           7158,
           127,
           6671
          ],
          [
           "Congo (Brazzaville)",
           7107,
           108,
           5846
          ],
          [
           "Burkina Faso",
           6828,
           85,
           5152
          ],
          [
           "Malawi",
           6684,
           191,
           5708
          ],
          [
           "Guyana",
           6348,
           164,
           5868
          ],
          [
           "Suriname",
           6277,
           123,
           5771
          ],
          [
           "Djibouti",
           5840,
           61,
           5735
          ],
          [
           "Iceland",
           5754,
           29,
           5578
          ],
          [
           "Equatorial Guinea",
           5277,
           86,
           5136
          ],
          [
           "Central African Republic",
           4963,
           63,
           1924
          ],
          [
           "Nicaragua",
           4829,
           165,
           4225
          ],
          [
           "Somalia",
           4714,
           130,
           3612
          ],
          [
           "Gambia",
           3800,
           124,
           3669
          ],
          [
           "Togo",
           3662,
           68,
           3443
          ],
          [
           "South Sudan",
           3558,
           63,
           3131
          ],
          [
           "Niger",
           3403,
           106,
           1828
          ],
          [
           "Benin",
           3251,
           44,
           3061
          ],
          [
           "Lesotho",
           3206,
           51,
           1496
          ],
          [
           "Sierra Leone",
           2635,
           76,
           1906
          ],
          [
           "Guinea-Bissau",
           2452,
           45,
           2397
          ],
          [
           "San Marino",
           2384,
           59,
           2042
          ],
          [
           "Liechtenstein",
           2245,
           44,
           1810
          ],
          [
           "New Zealand",
           2162,
           26,
           2082
          ],
          [
           "Chad",
           2141,
           104,
           1704
          ],
          [
           "Yemen",
           2101,
           610,
           1396
          ],
          [
           "Liberia",
           1800,
           83,
           1406
          ],
          [
           "Vietnam",
           1474,
           35,
           1325
          ],
          [
           "Eritrea",
           1320,
           3,
           643
          ],
          [
           "Mongolia",
           1220,
           1,
           855
          ],
          [
           "Sao Tome and Principe",
           1022,
           17,
           973
          ],
          [
           "Monaco",
           885,
           3,
           718
          ],
          [
           "Comoros",
           823,
           10,
           705
          ],
          [
           "Burundi",
           822,
           2,
           687
          ],
          [
           "Taiwan*",
           802,
           7,
           682
          ],
          [
           "Papua New Guinea",
           780,
           9,
           661
          ],
          [
           "Diamond Princess",
           712,
           13,
           699
          ],
          [
           "Bhutan",
           689,
           0,
           449
          ],
          [
           "Mauritius",
           527,
           10,
           496
          ],
          [
           "Tanzania",
           509,
           21,
           183
          ],
          [
           "Barbados",
           395,
           7,
           319
          ],
          [
           "Cambodia",
           379,
           0,
           362
          ],
          [
           "Saint Lucia",
           353,
           5,
           289
          ],
          [
           "Seychelles",
           267,
           0,
           214
          ],
          [
           "Antigua and Barbuda",
           159,
           5,
           148
          ],
          [
           "Brunei",
           157,
           3,
           149
          ],
          [
           "Grenada",
           127,
           0,
           107
          ],
          [
           "Saint Vincent and the Grenadines",
           121,
           0,
           98
          ],
          [
           "Dominica",
           88,
           0,
           83
          ],
          [
           "Fiji",
           49,
           2,
           44
          ],
          [
           "Timor-Leste",
           44,
           0,
           32
          ],
          [
           "Laos",
           41,
           0,
           40
          ],
          [
           "Saint Kitts and Nevis",
           32,
           0,
           29
          ],
          [
           "Holy See",
           27,
           0,
           15
          ],
          [
           "Solomon Islands",
           17,
           0,
           5
          ],
          [
           "MS Zaandam",
           9,
           2,
           7
          ],
          [
           "Marshall Islands",
           4,
           0,
           4
          ],
          [
           "Samoa",
           2,
           0,
           2
          ],
          [
           "Vanuatu",
           1,
           0,
           1
          ],
          [
           "Palau",
           0,
           0,
           0
          ],
          [
           "Tuvalu",
           0,
           0,
           0
          ],
          [
           "Tonga",
           0,
           0,
           0
          ],
          [
           "Antarctica",
           0,
           0,
           0
          ],
          [
           "Korea, North",
           0,
           0,
           0
          ],
          [
           "Nauru",
           0,
           0,
           0
          ],
          [
           "Winter Olympics 2022",
           0,
           0,
           0
          ],
          [
           "Summer Olympics 2020",
           0,
           0,
           0
          ],
          [
           "Kiribati",
           0,
           0,
           0
          ]
         ],
         "geo": "geo",
         "hovertemplate": "<b>%{hovertext}</b><br><br>Confirmed=%{marker.color:,}<br>Deaths=%{customdata[2]:,}<br>Recovered=%{customdata[3]:,}<extra></extra>",
         "hovertext": [
          "US",
          "India",
          "Brazil",
          "Russia",
          "France",
          "United Kingdom",
          "Turkey",
          "Italy",
          "Spain",
          "Germany",
          "Colombia",
          "Argentina",
          "Mexico",
          "Poland",
          "Iran",
          "Ukraine",
          "South Africa",
          "Peru",
          "Netherlands",
          "Indonesia",
          "Czechia",
          "Belgium",
          "Romania",
          "Chile",
          "Canada",
          "Iraq",
          "Bangladesh",
          "Pakistan",
          "Philippines",
          "Switzerland",
          "Morocco",
          "Sweden",
          "Israel",
          "Portugal",
          "Saudi Arabia",
          "Austria",
          "Serbia",
          "Hungary",
          "Jordan",
          "Slovakia",
          "Nepal",
          "Panama",
          "Japan",
          "Georgia",
          "Azerbaijan",
          "Ecuador",
          "Croatia",
          "United Arab Emirates",
          "Bulgaria",
          "Kazakhstan",
          "Belarus",
          "Lebanon",
          "Dominican Republic",
          "Costa Rica",
          "Denmark",
          "Bolivia",
          "Armenia",
          "Kuwait",
          "Lithuania",
          "Moldova",
          "Qatar",
          "Tunisia",
          "Egypt",
          "Greece",
          "West Bank and Gaza",
          "Guatemala",
          "Oman",
          "Burma",
          "Ethiopia",
          "Slovenia",
          "Honduras",
          "Malaysia",
          "Venezuela",
          "Bosnia and Herzegovina",
          "Paraguay",
          "China",
          "Libya",
          "Algeria",
          "Kenya",
          "Ireland",
          "Bahrain",
          "Nigeria",
          "North Macedonia",
          "Kyrgyzstan",
          "Uzbekistan",
          "Korea, South",
          "Singapore",
          "Albania",
          "Ghana",
          "Afghanistan",
          "Kosovo",
          "Norway",
          "Montenegro",
          "El Salvador",
          "Luxembourg",
          "Sri Lanka",
          "Latvia",
          "Finland",
          "Uganda",
          "Australia",
          "Estonia",
          "Cameroon",
          "Sudan",
          "Namibia",
          "Cyprus",
          "Cote d'Ivoire",
          "Zambia",
          "Uruguay",
          "Senegal",
          "Mozambique",
          "Congo (Kinshasa)",
          "Madagascar",
          "Angola",
          "Botswana",
          "Mauritania",
          "Zimbabwe",
          "Maldives",
          "Guinea",
          "Tajikistan",
          "Jamaica",
          "Malta",
          "Cuba",
          "Cabo Verde",
          "Syria",
          "Belize",
          "Haiti",
          "Gabon",
          "Eswatini",
          "Rwanda",
          "Andorra",
          "Bahamas",
          "Mali",
          "Thailand",
          "Trinidad and Tobago",
          "Congo (Brazzaville)",
          "Burkina Faso",
          "Malawi",
          "Guyana",
          "Suriname",
          "Djibouti",
          "Iceland",
          "Equatorial Guinea",
          "Central African Republic",
          "Nicaragua",
          "Somalia",
          "Gambia",
          "Togo",
          "South Sudan",
          "Niger",
          "Benin",
          "Lesotho",
          "Sierra Leone",
          "Guinea-Bissau",
          "San Marino",
          "Liechtenstein",
          "New Zealand",
          "Chad",
          "Yemen",
          "Liberia",
          "Vietnam",
          "Eritrea",
          "Mongolia",
          "Sao Tome and Principe",
          "Monaco",
          "Comoros",
          "Burundi",
          "Taiwan*",
          "Papua New Guinea",
          "Diamond Princess",
          "Bhutan",
          "Mauritius",
          "Tanzania",
          "Barbados",
          "Cambodia",
          "Saint Lucia",
          "Seychelles",
          "Antigua and Barbuda",
          "Brunei",
          "Grenada",
          "Saint Vincent and the Grenadines",
          "Dominica",
          "Fiji",
          "Timor-Leste",
          "Laos",
          "Saint Kitts and Nevis",
          "Holy See",
          "Solomon Islands",
          "MS Zaandam",
          "Marshall Islands",
          "Samoa",
          "Vanuatu",
          "Palau",
          "Tuvalu",
          "Tonga",
          "Antarctica",
          "Korea, North",
          "Nauru",
          "Winter Olympics 2022",
          "Summer Olympics 2020",
          "Kiribati"
         ],
         "legendgroup": "",
         "locationmode": "country names",
         "locations": [
          "US",
          "India",
          "Brazil",
          "Russia",
          "France",
          "United Kingdom",
          "Turkey",
          "Italy",
          "Spain",
          "Germany",
          "Colombia",
          "Argentina",
          "Mexico",
          "Poland",
          "Iran",
          "Ukraine",
          "South Africa",
          "Peru",
          "Netherlands",
          "Indonesia",
          "Czechia",
          "Belgium",
          "Romania",
          "Chile",
          "Canada",
          "Iraq",
          "Bangladesh",
          "Pakistan",
          "Philippines",
          "Switzerland",
          "Morocco",
          "Sweden",
          "Israel",
          "Portugal",
          "Saudi Arabia",
          "Austria",
          "Serbia",
          "Hungary",
          "Jordan",
          "Slovakia",
          "Nepal",
          "Panama",
          "Japan",
          "Georgia",
          "Azerbaijan",
          "Ecuador",
          "Croatia",
          "United Arab Emirates",
          "Bulgaria",
          "Kazakhstan",
          "Belarus",
          "Lebanon",
          "Dominican Republic",
          "Costa Rica",
          "Denmark",
          "Bolivia",
          "Armenia",
          "Kuwait",
          "Lithuania",
          "Moldova",
          "Qatar",
          "Tunisia",
          "Egypt",
          "Greece",
          "West Bank and Gaza",
          "Guatemala",
          "Oman",
          "Burma",
          "Ethiopia",
          "Slovenia",
          "Honduras",
          "Malaysia",
          "Venezuela",
          "Bosnia and Herzegovina",
          "Paraguay",
          "China",
          "Libya",
          "Algeria",
          "Kenya",
          "Ireland",
          "Bahrain",
          "Nigeria",
          "North Macedonia",
          "Kyrgyzstan",
          "Uzbekistan",
          "Korea, South",
          "Singapore",
          "Albania",
          "Ghana",
          "Afghanistan",
          "Kosovo",
          "Norway",
          "Montenegro",
          "El Salvador",
          "Luxembourg",
          "Sri Lanka",
          "Latvia",
          "Finland",
          "Uganda",
          "Australia",
          "Estonia",
          "Cameroon",
          "Sudan",
          "Namibia",
          "Cyprus",
          "Cote d'Ivoire",
          "Zambia",
          "Uruguay",
          "Senegal",
          "Mozambique",
          "Congo (Kinshasa)",
          "Madagascar",
          "Angola",
          "Botswana",
          "Mauritania",
          "Zimbabwe",
          "Maldives",
          "Guinea",
          "Tajikistan",
          "Jamaica",
          "Malta",
          "Cuba",
          "Cabo Verde",
          "Syria",
          "Belize",
          "Haiti",
          "Gabon",
          "Eswatini",
          "Rwanda",
          "Andorra",
          "Bahamas",
          "Mali",
          "Thailand",
          "Trinidad and Tobago",
          "Congo (Brazzaville)",
          "Burkina Faso",
          "Malawi",
          "Guyana",
          "Suriname",
          "Djibouti",
          "Iceland",
          "Equatorial Guinea",
          "Central African Republic",
          "Nicaragua",
          "Somalia",
          "Gambia",
          "Togo",
          "South Sudan",
          "Niger",
          "Benin",
          "Lesotho",
          "Sierra Leone",
          "Guinea-Bissau",
          "San Marino",
          "Liechtenstein",
          "New Zealand",
          "Chad",
          "Yemen",
          "Liberia",
          "Vietnam",
          "Eritrea",
          "Mongolia",
          "Sao Tome and Principe",
          "Monaco",
          "Comoros",
          "Burundi",
          "Taiwan*",
          "Papua New Guinea",
          "Diamond Princess",
          "Bhutan",
          "Mauritius",
          "Tanzania",
          "Barbados",
          "Cambodia",
          "Saint Lucia",
          "Seychelles",
          "Antigua and Barbuda",
          "Brunei",
          "Grenada",
          "Saint Vincent and the Grenadines",
          "Dominica",
          "Fiji",
          "Timor-Leste",
          "Laos",
          "Saint Kitts and Nevis",
          "Holy See",
          "Solomon Islands",
          "MS Zaandam",
          "Marshall Islands",
          "Samoa",
          "Vanuatu",
          "Palau",
          "Tuvalu",
          "Tonga",
          "Antarctica",
          "Korea, North",
          "Nauru",
          "Winter Olympics 2022",
          "Summer Olympics 2020",
          "Kiribati"
         ],
         "marker": {
          "color": [
           20397401,
           10305788,
           7703971,
           3153960,
           2697014,
           2549671,
           2220855,
           2129376,
           1928265,
           1721839,
           1654880,
           1629594,
           1437185,
           1305774,
           1231429,
           1096855,
           1073887,
           1015137,
           816616,
           751270,
           732022,
           648289,
           636201,
           612564,
           596582,
           596193,
           514500,
           484362,
           475820,
           452296,
           440970,
           437379,
           428510,
           420629,
           362878,
           358774,
           339997,
           325278,
           295765,
           285079,
           261019,
           249733,
           239005,
           228410,
           219041,
           213378,
           212007,
           209678,
           202540,
           202060,
           196223,
           183888,
           172218,
           169321,
           166567,
           160985,
           159738,
           150869,
           147862,
           145258,
           144042,
           140557,
           139471,
           139447,
           139223,
           138236,
           128867,
           125042,
           124652,
           123950,
           122974,
           115078,
           113884,
           112143,
           108349,
           102649,
           100744,
           99897,
           96614,
           93532,
           92913,
           88587,
           83743,
           81156,
           77182,
           62593,
           58629,
           58316,
           54930,
           52513,
           51502,
           49803,
           48589,
           46515,
           46415,
           43856,
           41615,
           36676,
           35511,
           28460,
           28406,
           26848,
           25730,
           24545,
           23108,
           22563,
           20997,
           19753,
           19364,
           18794,
           17849,
           17714,
           17568,
           14805,
           14581,
           14084,
           13804,
           13738,
           13665,
           12915,
           12909,
           12056,
           11872,
           11526,
           10776,
           10015,
           9571,
           9482,
           8460,
           8117,
           7887,
           7203,
           7163,
           7158,
           7107,
           6828,
           6684,
           6348,
           6277,
           5840,
           5754,
           5277,
           4963,
           4829,
           4714,
           3800,
           3662,
           3558,
           3403,
           3251,
           3206,
           2635,
           2452,
           2384,
           2245,
           2162,
           2141,
           2101,
           1800,
           1474,
           1320,
           1220,
           1022,
           885,
           823,
           822,
           802,
           780,
           712,
           689,
           527,
           509,
           395,
           379,
           353,
           267,
           159,
           157,
           127,
           121,
           88,
           49,
           44,
           41,
           32,
           27,
           17,
           9,
           4,
           2,
           1,
           0,
           0,
           0,
           0,
           0,
           0,
           0,
           0,
           0
          ],
          "coloraxis": "coloraxis",
          "size": [
           20397401,
           10305788,
           7703971,
           3153960,
           2697014,
           2549671,
           2220855,
           2129376,
           1928265,
           1721839,
           1654880,
           1629594,
           1437185,
           1305774,
           1231429,
           1096855,
           1073887,
           1015137,
           816616,
           751270,
           732022,
           648289,
           636201,
           612564,
           596582,
           596193,
           514500,
           484362,
           475820,
           452296,
           440970,
           437379,
           428510,
           420629,
           362878,
           358774,
           339997,
           325278,
           295765,
           285079,
           261019,
           249733,
           239005,
           228410,
           219041,
           213378,
           212007,
           209678,
           202540,
           202060,
           196223,
           183888,
           172218,
           169321,
           166567,
           160985,
           159738,
           150869,
           147862,
           145258,
           144042,
           140557,
           139471,
           139447,
           139223,
           138236,
           128867,
           125042,
           124652,
           123950,
           122974,
           115078,
           113884,
           112143,
           108349,
           102649,
           100744,
           99897,
           96614,
           93532,
           92913,
           88587,
           83743,
           81156,
           77182,
           62593,
           58629,
           58316,
           54930,
           52513,
           51502,
           49803,
           48589,
           46515,
           46415,
           43856,
           41615,
           36676,
           35511,
           28460,
           28406,
           26848,
           25730,
           24545,
           23108,
           22563,
           20997,
           19753,
           19364,
           18794,
           17849,
           17714,
           17568,
           14805,
           14581,
           14084,
           13804,
           13738,
           13665,
           12915,
           12909,
           12056,
           11872,
           11526,
           10776,
           10015,
           9571,
           9482,
           8460,
           8117,
           7887,
           7203,
           7163,
           7158,
           7107,
           6828,
           6684,
           6348,
           6277,
           5840,
           5754,
           5277,
           4963,
           4829,
           4714,
           3800,
           3662,
           3558,
           3403,
           3251,
           3206,
           2635,
           2452,
           2384,
           2245,
           2162,
           2141,
           2101,
           1800,
           1474,
           1320,
           1220,
           1022,
           885,
           823,
           822,
           802,
           780,
           712,
           689,
           527,
           509,
           395,
           379,
           353,
           267,
           159,
           157,
           127,
           121,
           88,
           49,
           44,
           41,
           32,
           27,
           17,
           9,
           4,
           2,
           1,
           0,
           0,
           0,
           0,
           0,
           0,
           0,
           0,
           0
          ],
          "sizemode": "area",
          "sizeref": 12748.375625,
          "symbol": "circle"
         },
         "mode": "markers",
         "name": "",
         "showlegend": false,
         "type": "scattergeo"
        }
       ],
       "layout": {
        "coloraxis": {
         "colorbar": {
          "title": {
           "text": "Confirmed"
          }
         },
         "colorscale": [
          [
           0,
           "#0d0887"
          ],
          [
           0.1111111111111111,
           "#46039f"
          ],
          [
           0.2222222222222222,
           "#7201a8"
          ],
          [
           0.3333333333333333,
           "#9c179e"
          ],
          [
           0.4444444444444444,
           "#bd3786"
          ],
          [
           0.5555555555555556,
           "#d8576b"
          ],
          [
           0.6666666666666666,
           "#ed7953"
          ],
          [
           0.7777777777777778,
           "#fb9f3a"
          ],
          [
           0.8888888888888888,
           "#fdca26"
          ],
          [
           1,
           "#f0f921"
          ]
         ]
        },
        "geo": {
         "center": {},
         "domain": {
          "x": [
           0,
           1
          ],
          "y": [
           0,
           1
          ]
         }
        },
        "legend": {
         "itemsizing": "constant",
         "tracegroupgap": 0
        },
        "margin": {
         "t": 60
        },
        "template": {
         "data": {
          "bar": [
           {
            "error_x": {
             "color": "#f2f5fa"
            },
            "error_y": {
             "color": "#f2f5fa"
            },
            "marker": {
             "line": {
              "color": "rgb(17,17,17)",
              "width": 0.5
             },
             "pattern": {
              "fillmode": "overlay",
              "size": 10,
              "solidity": 0.2
             }
            },
            "type": "bar"
           }
          ],
          "barpolar": [
           {
            "marker": {
             "line": {
              "color": "rgb(17,17,17)",
              "width": 0.5
             },
             "pattern": {
              "fillmode": "overlay",
              "size": 10,
              "solidity": 0.2
             }
            },
            "type": "barpolar"
           }
          ],
          "carpet": [
           {
            "aaxis": {
             "endlinecolor": "#A2B1C6",
             "gridcolor": "#506784",
             "linecolor": "#506784",
             "minorgridcolor": "#506784",
             "startlinecolor": "#A2B1C6"
            },
            "baxis": {
             "endlinecolor": "#A2B1C6",
             "gridcolor": "#506784",
             "linecolor": "#506784",
             "minorgridcolor": "#506784",
             "startlinecolor": "#A2B1C6"
            },
            "type": "carpet"
           }
          ],
          "choropleth": [
           {
            "colorbar": {
             "outlinewidth": 0,
             "ticks": ""
            },
            "type": "choropleth"
           }
          ],
          "contour": [
           {
            "colorbar": {
             "outlinewidth": 0,
             "ticks": ""
            },
            "colorscale": [
             [
              0,
              "#0d0887"
             ],
             [
              0.1111111111111111,
              "#46039f"
             ],
             [
              0.2222222222222222,
              "#7201a8"
             ],
             [
              0.3333333333333333,
              "#9c179e"
             ],
             [
              0.4444444444444444,
              "#bd3786"
             ],
             [
              0.5555555555555556,
              "#d8576b"
             ],
             [
              0.6666666666666666,
              "#ed7953"
             ],
             [
              0.7777777777777778,
              "#fb9f3a"
             ],
             [
              0.8888888888888888,
              "#fdca26"
             ],
             [
              1,
              "#f0f921"
             ]
            ],
            "type": "contour"
           }
          ],
          "contourcarpet": [
           {
            "colorbar": {
             "outlinewidth": 0,
             "ticks": ""
            },
            "type": "contourcarpet"
           }
          ],
          "heatmap": [
           {
            "colorbar": {
             "outlinewidth": 0,
             "ticks": ""
            },
            "colorscale": [
             [
              0,
              "#0d0887"
             ],
             [
              0.1111111111111111,
              "#46039f"
             ],
             [
              0.2222222222222222,
              "#7201a8"
             ],
             [
              0.3333333333333333,
              "#9c179e"
             ],
             [
              0.4444444444444444,
              "#bd3786"
             ],
             [
              0.5555555555555556,
              "#d8576b"
             ],
             [
              0.6666666666666666,
              "#ed7953"
             ],
             [
              0.7777777777777778,
              "#fb9f3a"
             ],
             [
              0.8888888888888888,
              "#fdca26"
             ],
             [
              1,
              "#f0f921"
             ]
            ],
            "type": "heatmap"
           }
          ],
          "heatmapgl": [
           {
            "colorbar": {
             "outlinewidth": 0,
             "ticks": ""
            },
            "colorscale": [
             [
              0,
              "#0d0887"
             ],
             [
              0.1111111111111111,
              "#46039f"
             ],
             [
              0.2222222222222222,
              "#7201a8"
             ],
             [
              0.3333333333333333,
              "#9c179e"
             ],
             [
              0.4444444444444444,
              "#bd3786"
             ],
             [
              0.5555555555555556,
              "#d8576b"
             ],
             [
              0.6666666666666666,
              "#ed7953"
             ],
             [
              0.7777777777777778,
              "#fb9f3a"
             ],
             [
              0.8888888888888888,
              "#fdca26"
             ],
             [
              1,
              "#f0f921"
             ]
            ],
            "type": "heatmapgl"
           }
          ],
          "histogram": [
           {
            "marker": {
             "pattern": {
              "fillmode": "overlay",
              "size": 10,
              "solidity": 0.2
             }
            },
            "type": "histogram"
           }
          ],
          "histogram2d": [
           {
            "colorbar": {
             "outlinewidth": 0,
             "ticks": ""
            },
            "colorscale": [
             [
              0,
              "#0d0887"
             ],
             [
              0.1111111111111111,
              "#46039f"
             ],
             [
              0.2222222222222222,
              "#7201a8"
             ],
             [
              0.3333333333333333,
              "#9c179e"
             ],
             [
              0.4444444444444444,
              "#bd3786"
             ],
             [
              0.5555555555555556,
              "#d8576b"
             ],
             [
              0.6666666666666666,
              "#ed7953"
             ],
             [
              0.7777777777777778,
              "#fb9f3a"
             ],
             [
              0.8888888888888888,
              "#fdca26"
             ],
             [
              1,
              "#f0f921"
             ]
            ],
            "type": "histogram2d"
           }
          ],
          "histogram2dcontour": [
           {
            "colorbar": {
             "outlinewidth": 0,
             "ticks": ""
            },
            "colorscale": [
             [
              0,
              "#0d0887"
             ],
             [
              0.1111111111111111,
              "#46039f"
             ],
             [
              0.2222222222222222,
              "#7201a8"
             ],
             [
              0.3333333333333333,
              "#9c179e"
             ],
             [
              0.4444444444444444,
              "#bd3786"
             ],
             [
              0.5555555555555556,
              "#d8576b"
             ],
             [
              0.6666666666666666,
              "#ed7953"
             ],
             [
              0.7777777777777778,
              "#fb9f3a"
             ],
             [
              0.8888888888888888,
              "#fdca26"
             ],
             [
              1,
              "#f0f921"
             ]
            ],
            "type": "histogram2dcontour"
           }
          ],
          "mesh3d": [
           {
            "colorbar": {
             "outlinewidth": 0,
             "ticks": ""
            },
            "type": "mesh3d"
           }
          ],
          "parcoords": [
           {
            "line": {
             "colorbar": {
              "outlinewidth": 0,
              "ticks": ""
             }
            },
            "type": "parcoords"
           }
          ],
          "pie": [
           {
            "automargin": true,
            "type": "pie"
           }
          ],
          "scatter": [
           {
            "marker": {
             "line": {
              "color": "#283442"
             }
            },
            "type": "scatter"
           }
          ],
          "scatter3d": [
           {
            "line": {
             "colorbar": {
              "outlinewidth": 0,
              "ticks": ""
             }
            },
            "marker": {
             "colorbar": {
              "outlinewidth": 0,
              "ticks": ""
             }
            },
            "type": "scatter3d"
           }
          ],
          "scattercarpet": [
           {
            "marker": {
             "colorbar": {
              "outlinewidth": 0,
              "ticks": ""
             }
            },
            "type": "scattercarpet"
           }
          ],
          "scattergeo": [
           {
            "marker": {
             "colorbar": {
              "outlinewidth": 0,
              "ticks": ""
             }
            },
            "type": "scattergeo"
           }
          ],
          "scattergl": [
           {
            "marker": {
             "line": {
              "color": "#283442"
             }
            },
            "type": "scattergl"
           }
          ],
          "scattermapbox": [
           {
            "marker": {
             "colorbar": {
              "outlinewidth": 0,
              "ticks": ""
             }
            },
            "type": "scattermapbox"
           }
          ],
          "scatterpolar": [
           {
            "marker": {
             "colorbar": {
              "outlinewidth": 0,
              "ticks": ""
             }
            },
            "type": "scatterpolar"
           }
          ],
          "scatterpolargl": [
           {
            "marker": {
             "colorbar": {
              "outlinewidth": 0,
              "ticks": ""
             }
            },
            "type": "scatterpolargl"
           }
          ],
          "scatterternary": [
           {
            "marker": {
             "colorbar": {
              "outlinewidth": 0,
              "ticks": ""
             }
            },
            "type": "scatterternary"
           }
          ],
          "surface": [
           {
            "colorbar": {
             "outlinewidth": 0,
             "ticks": ""
            },
            "colorscale": [
             [
              0,
              "#0d0887"
             ],
             [
              0.1111111111111111,
              "#46039f"
             ],
             [
              0.2222222222222222,
              "#7201a8"
             ],
             [
              0.3333333333333333,
              "#9c179e"
             ],
             [
              0.4444444444444444,
              "#bd3786"
             ],
             [
              0.5555555555555556,
              "#d8576b"
             ],
             [
              0.6666666666666666,
              "#ed7953"
             ],
             [
              0.7777777777777778,
              "#fb9f3a"
             ],
             [
              0.8888888888888888,
              "#fdca26"
             ],
             [
              1,
              "#f0f921"
             ]
            ],
            "type": "surface"
           }
          ],
          "table": [
           {
            "cells": {
             "fill": {
              "color": "#506784"
             },
             "line": {
              "color": "rgb(17,17,17)"
             }
            },
            "header": {
             "fill": {
              "color": "#2a3f5f"
             },
             "line": {
              "color": "rgb(17,17,17)"
             }
            },
            "type": "table"
           }
          ]
         },
         "layout": {
          "annotationdefaults": {
           "arrowcolor": "#f2f5fa",
           "arrowhead": 0,
           "arrowwidth": 1
          },
          "autotypenumbers": "strict",
          "coloraxis": {
           "colorbar": {
            "outlinewidth": 0,
            "ticks": ""
           }
          },
          "colorscale": {
           "diverging": [
            [
             0,
             "#8e0152"
            ],
            [
             0.1,
             "#c51b7d"
            ],
            [
             0.2,
             "#de77ae"
            ],
            [
             0.3,
             "#f1b6da"
            ],
            [
             0.4,
             "#fde0ef"
            ],
            [
             0.5,
             "#f7f7f7"
            ],
            [
             0.6,
             "#e6f5d0"
            ],
            [
             0.7,
             "#b8e186"
            ],
            [
             0.8,
             "#7fbc41"
            ],
            [
             0.9,
             "#4d9221"
            ],
            [
             1,
             "#276419"
            ]
           ],
           "sequential": [
            [
             0,
             "#0d0887"
            ],
            [
             0.1111111111111111,
             "#46039f"
            ],
            [
             0.2222222222222222,
             "#7201a8"
            ],
            [
             0.3333333333333333,
             "#9c179e"
            ],
            [
             0.4444444444444444,
             "#bd3786"
            ],
            [
             0.5555555555555556,
             "#d8576b"
            ],
            [
             0.6666666666666666,
             "#ed7953"
            ],
            [
             0.7777777777777778,
             "#fb9f3a"
            ],
            [
             0.8888888888888888,
             "#fdca26"
            ],
            [
             1,
             "#f0f921"
            ]
           ],
           "sequentialminus": [
            [
             0,
             "#0d0887"
            ],
            [
             0.1111111111111111,
             "#46039f"
            ],
            [
             0.2222222222222222,
             "#7201a8"
            ],
            [
             0.3333333333333333,
             "#9c179e"
            ],
            [
             0.4444444444444444,
             "#bd3786"
            ],
            [
             0.5555555555555556,
             "#d8576b"
            ],
            [
             0.6666666666666666,
             "#ed7953"
            ],
            [
             0.7777777777777778,
             "#fb9f3a"
            ],
            [
             0.8888888888888888,
             "#fdca26"
            ],
            [
             1,
             "#f0f921"
            ]
           ]
          },
          "colorway": [
           "#636efa",
           "#EF553B",
           "#00cc96",
           "#ab63fa",
           "#FFA15A",
           "#19d3f3",
           "#FF6692",
           "#B6E880",
           "#FF97FF",
           "#FECB52"
          ],
          "font": {
           "color": "#f2f5fa"
          },
          "geo": {
           "bgcolor": "rgb(17,17,17)",
           "lakecolor": "rgb(17,17,17)",
           "landcolor": "rgb(17,17,17)",
           "showlakes": true,
           "showland": true,
           "subunitcolor": "#506784"
          },
          "hoverlabel": {
           "align": "left"
          },
          "hovermode": "closest",
          "mapbox": {
           "style": "dark"
          },
          "paper_bgcolor": "rgb(17,17,17)",
          "plot_bgcolor": "rgb(17,17,17)",
          "polar": {
           "angularaxis": {
            "gridcolor": "#506784",
            "linecolor": "#506784",
            "ticks": ""
           },
           "bgcolor": "rgb(17,17,17)",
           "radialaxis": {
            "gridcolor": "#506784",
            "linecolor": "#506784",
            "ticks": ""
           }
          },
          "scene": {
           "xaxis": {
            "backgroundcolor": "rgb(17,17,17)",
            "gridcolor": "#506784",
            "gridwidth": 2,
            "linecolor": "#506784",
            "showbackground": true,
            "ticks": "",
            "zerolinecolor": "#C8D4E3"
           },
           "yaxis": {
            "backgroundcolor": "rgb(17,17,17)",
            "gridcolor": "#506784",
            "gridwidth": 2,
            "linecolor": "#506784",
            "showbackground": true,
            "ticks": "",
            "zerolinecolor": "#C8D4E3"
           },
           "zaxis": {
            "backgroundcolor": "rgb(17,17,17)",
            "gridcolor": "#506784",
            "gridwidth": 2,
            "linecolor": "#506784",
            "showbackground": true,
            "ticks": "",
            "zerolinecolor": "#C8D4E3"
           }
          },
          "shapedefaults": {
           "line": {
            "color": "#f2f5fa"
           }
          },
          "sliderdefaults": {
           "bgcolor": "#C8D4E3",
           "bordercolor": "rgb(17,17,17)",
           "borderwidth": 1,
           "tickwidth": 0
          },
          "ternary": {
           "aaxis": {
            "gridcolor": "#506784",
            "linecolor": "#506784",
            "ticks": ""
           },
           "baxis": {
            "gridcolor": "#506784",
            "linecolor": "#506784",
            "ticks": ""
           },
           "bgcolor": "rgb(17,17,17)",
           "caxis": {
            "gridcolor": "#506784",
            "linecolor": "#506784",
            "ticks": ""
           }
          },
          "title": {
           "x": 0.05
          },
          "updatemenudefaults": {
           "bgcolor": "#506784",
           "borderwidth": 0
          },
          "xaxis": {
           "automargin": true,
           "gridcolor": "#283442",
           "linecolor": "#506784",
           "ticks": "",
           "title": {
            "standoff": 15
           },
           "zerolinecolor": "#283442",
           "zerolinewidth": 2
          },
          "yaxis": {
           "automargin": true,
           "gridcolor": "#283442",
           "linecolor": "#506784",
           "ticks": "",
           "title": {
            "standoff": 15
           },
           "zerolinecolor": "#283442",
           "zerolinewidth": 2
          }
         }
        }
       }
      },
      "text/html": [
       "<div>                            <div id=\"3929bb29-66f0-458b-baa5-83c2e4588190\" class=\"plotly-graph-div\" style=\"height:525px; width:100%;\"></div>            <script type=\"text/javascript\">                require([\"plotly\"], function(Plotly) {                    window.PLOTLYENV=window.PLOTLYENV || {};                                    if (document.getElementById(\"3929bb29-66f0-458b-baa5-83c2e4588190\")) {                    Plotly.newPlot(                        \"3929bb29-66f0-458b-baa5-83c2e4588190\",                        [{\"customdata\":[[\"US\",20397401,352844,0],[\"India\",10305788,149218,9929568],[\"Brazil\",7703971,195541,6855372],[\"Russia\",3153960,56798,2553467],[\"France\",2697014,64891,200822],[\"United Kingdom\",2549671,95917,5682],[\"Turkey\",2220855,21093,2114760],[\"Italy\",2129376,74621,1479988],[\"Spain\",1928265,50837,150376],[\"Germany\",1721839,33071,1388744],[\"Colombia\",1654880,43495,1520548],[\"Argentina\",1629594,43319,1426676],[\"Mexico\",1437185,126507,1083768],[\"Poland\",1305774,28956,1046281],[\"Iran\",1231429,55337,995570],[\"Ukraine\",1096855,19437,746680],[\"South Africa\",1073887,28887,887701],[\"Peru\",1015137,93231,951318],[\"Netherlands\",816616,11624,9651],[\"Indonesia\",751270,22329,617936],[\"Czechia\",732022,11711,600073],[\"Belgium\",648289,19581,0],[\"Romania\",636201,15841,566365],[\"Chile\",612564,16660,579203],[\"Canada\",596582,15819,494437],[\"Iraq\",596193,12824,539817],[\"Bangladesh\",514500,7576,458656],[\"Pakistan\",484362,10258,438974],[\"Philippines\",475820,9248,439895],[\"Switzerland\",452296,7948,317600],[\"Morocco\",440970,7425,409638],[\"Sweden\",437379,8727,0],[\"Israel\",428510,3356,379910],[\"Portugal\",420629,6972,338668],[\"Saudi Arabia\",362878,6230,354081],[\"Austria\",358774,7564,334901],[\"Serbia\",339997,3250,0],[\"Hungary\",325278,9667,157063],[\"Jordan\",295765,3851,271834],[\"Slovakia\",285079,2250,127190],[\"Nepal\",261019,1864,253107],[\"Panama\",249733,4064,197928],[\"Japan\",239005,3541,193558],[\"Georgia\",228410,2528,214992],[\"Azerbaijan\",219041,2670,188280],[\"Ecuador\",213378,14051,184507],[\"Croatia\",212007,3961,199820],[\"United Arab Emirates\",209678,671,186019],[\"Bulgaria\",202540,7604,120343],[\"Kazakhstan\",202060,2749,176774],[\"Belarus\",196223,1433,178102],[\"Lebanon\",183888,1479,127959],[\"Dominican Republic\",172218,2416,131543],[\"Costa Rica\",169321,2185,131923],[\"Denmark\",166567,1322,131390],[\"Bolivia\",160985,9175,132510],[\"Armenia\",159738,2828,143355],[\"Kuwait\",150869,936,146777],[\"Lithuania\",147862,1841,98149],[\"Moldova\",145258,3004,131701],[\"Qatar\",144042,245,141556],[\"Tunisia\",140557,4730,105499],[\"Egypt\",139471,7687,112826],[\"Greece\",139447,4881,93764],[\"West Bank and Gaza\",139223,1418,118926],[\"Guatemala\",138236,4820,126606],[\"Oman\",128867,1499,121890],[\"Burma\",125042,2697,107777],[\"Ethiopia\",124652,1937,112251],[\"Slovenia\",123950,2728,100868],[\"Honduras\",122974,3160,56936],[\"Malaysia\",115078,474,91170],[\"Venezuela\",113884,1030,107901],[\"Bosnia and Herzegovina\",112143,4086,77682],[\"Paraguay\",108349,2262,81977],[\"China\",102649,4783,90031],[\"Libya\",100744,1487,73252],[\"Algeria\",99897,2762,67395],[\"Kenya\",96614,1681,78802],[\"Ireland\",93532,2248,23364],[\"Bahrain\",92913,352,90369],[\"Nigeria\",88587,1294,74373],[\"North Macedonia\",83743,2510,61943],[\"Kyrgyzstan\",81156,1356,76148],[\"Uzbekistan\",77182,614,75244],[\"Korea, South\",62593,942,43578],[\"Singapore\",58629,29,58449],[\"Albania\",58316,1181,33634],[\"Ghana\",54930,335,53758],[\"Afghanistan\",52513,2201,41727],[\"Kosovo\",51502,1336,41854],[\"Norway\",49803,436,17998],[\"Montenegro\",48589,684,38780],[\"El Salvador\",46515,1327,45960],[\"Luxembourg\",46415,495,40978],[\"Sri Lanka\",43856,208,36155],[\"Latvia\",41615,644,29018],[\"Finland\",36676,598,29000],[\"Uganda\",35511,265,11878],[\"Australia\",28460,909,22573],[\"Estonia\",28406,234,19027],[\"Cameroon\",26848,448,24892],[\"Sudan\",25730,1468,13524],[\"Namibia\",24545,208,20727],[\"Cyprus\",23108,126,2057],[\"Cote d'Ivoire\",22563,138,21981],[\"Zambia\",20997,390,18773],[\"Uruguay\",19753,193,13990],[\"Senegal\",19364,410,17375],[\"Mozambique\",18794,167,16680],[\"Congo (Kinshasa)\",17849,591,14701],[\"Madagascar\",17714,261,17228],[\"Angola\",17568,405,11146],[\"Botswana\",14805,42,12136],[\"Mauritania\",14581,349,11652],[\"Zimbabwe\",14084,369,11347],[\"Maldives\",13804,48,13150],[\"Guinea\",13738,81,13153],[\"Tajikistan\",13665,90,12894],[\"Jamaica\",12915,303,10532],[\"Malta\",12909,219,11178],[\"Cuba\",12056,146,10345],[\"Cabo Verde\",11872,113,11569],[\"Syria\",11526,717,5420],[\"Belize\",10776,248,9795],[\"Haiti\",10015,236,8624],[\"Gabon\",9571,64,9388],[\"Eswatini\",9482,216,7073],[\"Rwanda\",8460,94,6598],[\"Andorra\",8117,84,7463],[\"Bahamas\",7887,171,6239],[\"Mali\",7203,271,4694],[\"Thailand\",7163,63,4299],[\"Trinidad and Tobago\",7158,127,6671],[\"Congo (Brazzaville)\",7107,108,5846],[\"Burkina Faso\",6828,85,5152],[\"Malawi\",6684,191,5708],[\"Guyana\",6348,164,5868],[\"Suriname\",6277,123,5771],[\"Djibouti\",5840,61,5735],[\"Iceland\",5754,29,5578],[\"Equatorial Guinea\",5277,86,5136],[\"Central African Republic\",4963,63,1924],[\"Nicaragua\",4829,165,4225],[\"Somalia\",4714,130,3612],[\"Gambia\",3800,124,3669],[\"Togo\",3662,68,3443],[\"South Sudan\",3558,63,3131],[\"Niger\",3403,106,1828],[\"Benin\",3251,44,3061],[\"Lesotho\",3206,51,1496],[\"Sierra Leone\",2635,76,1906],[\"Guinea-Bissau\",2452,45,2397],[\"San Marino\",2384,59,2042],[\"Liechtenstein\",2245,44,1810],[\"New Zealand\",2162,26,2082],[\"Chad\",2141,104,1704],[\"Yemen\",2101,610,1396],[\"Liberia\",1800,83,1406],[\"Vietnam\",1474,35,1325],[\"Eritrea\",1320,3,643],[\"Mongolia\",1220,1,855],[\"Sao Tome and Principe\",1022,17,973],[\"Monaco\",885,3,718],[\"Comoros\",823,10,705],[\"Burundi\",822,2,687],[\"Taiwan*\",802,7,682],[\"Papua New Guinea\",780,9,661],[\"Diamond Princess\",712,13,699],[\"Bhutan\",689,0,449],[\"Mauritius\",527,10,496],[\"Tanzania\",509,21,183],[\"Barbados\",395,7,319],[\"Cambodia\",379,0,362],[\"Saint Lucia\",353,5,289],[\"Seychelles\",267,0,214],[\"Antigua and Barbuda\",159,5,148],[\"Brunei\",157,3,149],[\"Grenada\",127,0,107],[\"Saint Vincent and the Grenadines\",121,0,98],[\"Dominica\",88,0,83],[\"Fiji\",49,2,44],[\"Timor-Leste\",44,0,32],[\"Laos\",41,0,40],[\"Saint Kitts and Nevis\",32,0,29],[\"Holy See\",27,0,15],[\"Solomon Islands\",17,0,5],[\"MS Zaandam\",9,2,7],[\"Marshall Islands\",4,0,4],[\"Samoa\",2,0,2],[\"Vanuatu\",1,0,1],[\"Palau\",0,0,0],[\"Tuvalu\",0,0,0],[\"Tonga\",0,0,0],[\"Antarctica\",0,0,0],[\"Korea, North\",0,0,0],[\"Nauru\",0,0,0],[\"Winter Olympics 2022\",0,0,0],[\"Summer Olympics 2020\",0,0,0],[\"Kiribati\",0,0,0]],\"geo\":\"geo\",\"hovertemplate\":\"<b>%{hovertext}</b><br><br>Confirmed=%{marker.color:,}<br>Deaths=%{customdata[2]:,}<br>Recovered=%{customdata[3]:,}<extra></extra>\",\"hovertext\":[\"US\",\"India\",\"Brazil\",\"Russia\",\"France\",\"United Kingdom\",\"Turkey\",\"Italy\",\"Spain\",\"Germany\",\"Colombia\",\"Argentina\",\"Mexico\",\"Poland\",\"Iran\",\"Ukraine\",\"South Africa\",\"Peru\",\"Netherlands\",\"Indonesia\",\"Czechia\",\"Belgium\",\"Romania\",\"Chile\",\"Canada\",\"Iraq\",\"Bangladesh\",\"Pakistan\",\"Philippines\",\"Switzerland\",\"Morocco\",\"Sweden\",\"Israel\",\"Portugal\",\"Saudi Arabia\",\"Austria\",\"Serbia\",\"Hungary\",\"Jordan\",\"Slovakia\",\"Nepal\",\"Panama\",\"Japan\",\"Georgia\",\"Azerbaijan\",\"Ecuador\",\"Croatia\",\"United Arab Emirates\",\"Bulgaria\",\"Kazakhstan\",\"Belarus\",\"Lebanon\",\"Dominican Republic\",\"Costa Rica\",\"Denmark\",\"Bolivia\",\"Armenia\",\"Kuwait\",\"Lithuania\",\"Moldova\",\"Qatar\",\"Tunisia\",\"Egypt\",\"Greece\",\"West Bank and Gaza\",\"Guatemala\",\"Oman\",\"Burma\",\"Ethiopia\",\"Slovenia\",\"Honduras\",\"Malaysia\",\"Venezuela\",\"Bosnia and Herzegovina\",\"Paraguay\",\"China\",\"Libya\",\"Algeria\",\"Kenya\",\"Ireland\",\"Bahrain\",\"Nigeria\",\"North Macedonia\",\"Kyrgyzstan\",\"Uzbekistan\",\"Korea, South\",\"Singapore\",\"Albania\",\"Ghana\",\"Afghanistan\",\"Kosovo\",\"Norway\",\"Montenegro\",\"El Salvador\",\"Luxembourg\",\"Sri Lanka\",\"Latvia\",\"Finland\",\"Uganda\",\"Australia\",\"Estonia\",\"Cameroon\",\"Sudan\",\"Namibia\",\"Cyprus\",\"Cote d'Ivoire\",\"Zambia\",\"Uruguay\",\"Senegal\",\"Mozambique\",\"Congo (Kinshasa)\",\"Madagascar\",\"Angola\",\"Botswana\",\"Mauritania\",\"Zimbabwe\",\"Maldives\",\"Guinea\",\"Tajikistan\",\"Jamaica\",\"Malta\",\"Cuba\",\"Cabo Verde\",\"Syria\",\"Belize\",\"Haiti\",\"Gabon\",\"Eswatini\",\"Rwanda\",\"Andorra\",\"Bahamas\",\"Mali\",\"Thailand\",\"Trinidad and Tobago\",\"Congo (Brazzaville)\",\"Burkina Faso\",\"Malawi\",\"Guyana\",\"Suriname\",\"Djibouti\",\"Iceland\",\"Equatorial Guinea\",\"Central African Republic\",\"Nicaragua\",\"Somalia\",\"Gambia\",\"Togo\",\"South Sudan\",\"Niger\",\"Benin\",\"Lesotho\",\"Sierra Leone\",\"Guinea-Bissau\",\"San Marino\",\"Liechtenstein\",\"New Zealand\",\"Chad\",\"Yemen\",\"Liberia\",\"Vietnam\",\"Eritrea\",\"Mongolia\",\"Sao Tome and Principe\",\"Monaco\",\"Comoros\",\"Burundi\",\"Taiwan*\",\"Papua New Guinea\",\"Diamond Princess\",\"Bhutan\",\"Mauritius\",\"Tanzania\",\"Barbados\",\"Cambodia\",\"Saint Lucia\",\"Seychelles\",\"Antigua and Barbuda\",\"Brunei\",\"Grenada\",\"Saint Vincent and the Grenadines\",\"Dominica\",\"Fiji\",\"Timor-Leste\",\"Laos\",\"Saint Kitts and Nevis\",\"Holy See\",\"Solomon Islands\",\"MS Zaandam\",\"Marshall Islands\",\"Samoa\",\"Vanuatu\",\"Palau\",\"Tuvalu\",\"Tonga\",\"Antarctica\",\"Korea, North\",\"Nauru\",\"Winter Olympics 2022\",\"Summer Olympics 2020\",\"Kiribati\"],\"legendgroup\":\"\",\"locationmode\":\"country names\",\"locations\":[\"US\",\"India\",\"Brazil\",\"Russia\",\"France\",\"United Kingdom\",\"Turkey\",\"Italy\",\"Spain\",\"Germany\",\"Colombia\",\"Argentina\",\"Mexico\",\"Poland\",\"Iran\",\"Ukraine\",\"South Africa\",\"Peru\",\"Netherlands\",\"Indonesia\",\"Czechia\",\"Belgium\",\"Romania\",\"Chile\",\"Canada\",\"Iraq\",\"Bangladesh\",\"Pakistan\",\"Philippines\",\"Switzerland\",\"Morocco\",\"Sweden\",\"Israel\",\"Portugal\",\"Saudi Arabia\",\"Austria\",\"Serbia\",\"Hungary\",\"Jordan\",\"Slovakia\",\"Nepal\",\"Panama\",\"Japan\",\"Georgia\",\"Azerbaijan\",\"Ecuador\",\"Croatia\",\"United Arab Emirates\",\"Bulgaria\",\"Kazakhstan\",\"Belarus\",\"Lebanon\",\"Dominican Republic\",\"Costa Rica\",\"Denmark\",\"Bolivia\",\"Armenia\",\"Kuwait\",\"Lithuania\",\"Moldova\",\"Qatar\",\"Tunisia\",\"Egypt\",\"Greece\",\"West Bank and Gaza\",\"Guatemala\",\"Oman\",\"Burma\",\"Ethiopia\",\"Slovenia\",\"Honduras\",\"Malaysia\",\"Venezuela\",\"Bosnia and Herzegovina\",\"Paraguay\",\"China\",\"Libya\",\"Algeria\",\"Kenya\",\"Ireland\",\"Bahrain\",\"Nigeria\",\"North Macedonia\",\"Kyrgyzstan\",\"Uzbekistan\",\"Korea, South\",\"Singapore\",\"Albania\",\"Ghana\",\"Afghanistan\",\"Kosovo\",\"Norway\",\"Montenegro\",\"El Salvador\",\"Luxembourg\",\"Sri Lanka\",\"Latvia\",\"Finland\",\"Uganda\",\"Australia\",\"Estonia\",\"Cameroon\",\"Sudan\",\"Namibia\",\"Cyprus\",\"Cote d'Ivoire\",\"Zambia\",\"Uruguay\",\"Senegal\",\"Mozambique\",\"Congo (Kinshasa)\",\"Madagascar\",\"Angola\",\"Botswana\",\"Mauritania\",\"Zimbabwe\",\"Maldives\",\"Guinea\",\"Tajikistan\",\"Jamaica\",\"Malta\",\"Cuba\",\"Cabo Verde\",\"Syria\",\"Belize\",\"Haiti\",\"Gabon\",\"Eswatini\",\"Rwanda\",\"Andorra\",\"Bahamas\",\"Mali\",\"Thailand\",\"Trinidad and Tobago\",\"Congo (Brazzaville)\",\"Burkina Faso\",\"Malawi\",\"Guyana\",\"Suriname\",\"Djibouti\",\"Iceland\",\"Equatorial Guinea\",\"Central African Republic\",\"Nicaragua\",\"Somalia\",\"Gambia\",\"Togo\",\"South Sudan\",\"Niger\",\"Benin\",\"Lesotho\",\"Sierra Leone\",\"Guinea-Bissau\",\"San Marino\",\"Liechtenstein\",\"New Zealand\",\"Chad\",\"Yemen\",\"Liberia\",\"Vietnam\",\"Eritrea\",\"Mongolia\",\"Sao Tome and Principe\",\"Monaco\",\"Comoros\",\"Burundi\",\"Taiwan*\",\"Papua New Guinea\",\"Diamond Princess\",\"Bhutan\",\"Mauritius\",\"Tanzania\",\"Barbados\",\"Cambodia\",\"Saint Lucia\",\"Seychelles\",\"Antigua and Barbuda\",\"Brunei\",\"Grenada\",\"Saint Vincent and the Grenadines\",\"Dominica\",\"Fiji\",\"Timor-Leste\",\"Laos\",\"Saint Kitts and Nevis\",\"Holy See\",\"Solomon Islands\",\"MS Zaandam\",\"Marshall Islands\",\"Samoa\",\"Vanuatu\",\"Palau\",\"Tuvalu\",\"Tonga\",\"Antarctica\",\"Korea, North\",\"Nauru\",\"Winter Olympics 2022\",\"Summer Olympics 2020\",\"Kiribati\"],\"marker\":{\"color\":[20397401,10305788,7703971,3153960,2697014,2549671,2220855,2129376,1928265,1721839,1654880,1629594,1437185,1305774,1231429,1096855,1073887,1015137,816616,751270,732022,648289,636201,612564,596582,596193,514500,484362,475820,452296,440970,437379,428510,420629,362878,358774,339997,325278,295765,285079,261019,249733,239005,228410,219041,213378,212007,209678,202540,202060,196223,183888,172218,169321,166567,160985,159738,150869,147862,145258,144042,140557,139471,139447,139223,138236,128867,125042,124652,123950,122974,115078,113884,112143,108349,102649,100744,99897,96614,93532,92913,88587,83743,81156,77182,62593,58629,58316,54930,52513,51502,49803,48589,46515,46415,43856,41615,36676,35511,28460,28406,26848,25730,24545,23108,22563,20997,19753,19364,18794,17849,17714,17568,14805,14581,14084,13804,13738,13665,12915,12909,12056,11872,11526,10776,10015,9571,9482,8460,8117,7887,7203,7163,7158,7107,6828,6684,6348,6277,5840,5754,5277,4963,4829,4714,3800,3662,3558,3403,3251,3206,2635,2452,2384,2245,2162,2141,2101,1800,1474,1320,1220,1022,885,823,822,802,780,712,689,527,509,395,379,353,267,159,157,127,121,88,49,44,41,32,27,17,9,4,2,1,0,0,0,0,0,0,0,0,0],\"coloraxis\":\"coloraxis\",\"size\":[20397401,10305788,7703971,3153960,2697014,2549671,2220855,2129376,1928265,1721839,1654880,1629594,1437185,1305774,1231429,1096855,1073887,1015137,816616,751270,732022,648289,636201,612564,596582,596193,514500,484362,475820,452296,440970,437379,428510,420629,362878,358774,339997,325278,295765,285079,261019,249733,239005,228410,219041,213378,212007,209678,202540,202060,196223,183888,172218,169321,166567,160985,159738,150869,147862,145258,144042,140557,139471,139447,139223,138236,128867,125042,124652,123950,122974,115078,113884,112143,108349,102649,100744,99897,96614,93532,92913,88587,83743,81156,77182,62593,58629,58316,54930,52513,51502,49803,48589,46515,46415,43856,41615,36676,35511,28460,28406,26848,25730,24545,23108,22563,20997,19753,19364,18794,17849,17714,17568,14805,14581,14084,13804,13738,13665,12915,12909,12056,11872,11526,10776,10015,9571,9482,8460,8117,7887,7203,7163,7158,7107,6828,6684,6348,6277,5840,5754,5277,4963,4829,4714,3800,3662,3558,3403,3251,3206,2635,2452,2384,2245,2162,2141,2101,1800,1474,1320,1220,1022,885,823,822,802,780,712,689,527,509,395,379,353,267,159,157,127,121,88,49,44,41,32,27,17,9,4,2,1,0,0,0,0,0,0,0,0,0],\"sizemode\":\"area\",\"sizeref\":12748.375625,\"symbol\":\"circle\"},\"mode\":\"markers\",\"name\":\"\",\"showlegend\":false,\"type\":\"scattergeo\"}],                        {\"template\":{\"data\":{\"barpolar\":[{\"marker\":{\"line\":{\"color\":\"rgb(17,17,17)\",\"width\":0.5},\"pattern\":{\"fillmode\":\"overlay\",\"size\":10,\"solidity\":0.2}},\"type\":\"barpolar\"}],\"bar\":[{\"error_x\":{\"color\":\"#f2f5fa\"},\"error_y\":{\"color\":\"#f2f5fa\"},\"marker\":{\"line\":{\"color\":\"rgb(17,17,17)\",\"width\":0.5},\"pattern\":{\"fillmode\":\"overlay\",\"size\":10,\"solidity\":0.2}},\"type\":\"bar\"}],\"carpet\":[{\"aaxis\":{\"endlinecolor\":\"#A2B1C6\",\"gridcolor\":\"#506784\",\"linecolor\":\"#506784\",\"minorgridcolor\":\"#506784\",\"startlinecolor\":\"#A2B1C6\"},\"baxis\":{\"endlinecolor\":\"#A2B1C6\",\"gridcolor\":\"#506784\",\"linecolor\":\"#506784\",\"minorgridcolor\":\"#506784\",\"startlinecolor\":\"#A2B1C6\"},\"type\":\"carpet\"}],\"choropleth\":[{\"colorbar\":{\"outlinewidth\":0,\"ticks\":\"\"},\"type\":\"choropleth\"}],\"contourcarpet\":[{\"colorbar\":{\"outlinewidth\":0,\"ticks\":\"\"},\"type\":\"contourcarpet\"}],\"contour\":[{\"colorbar\":{\"outlinewidth\":0,\"ticks\":\"\"},\"colorscale\":[[0.0,\"#0d0887\"],[0.1111111111111111,\"#46039f\"],[0.2222222222222222,\"#7201a8\"],[0.3333333333333333,\"#9c179e\"],[0.4444444444444444,\"#bd3786\"],[0.5555555555555556,\"#d8576b\"],[0.6666666666666666,\"#ed7953\"],[0.7777777777777778,\"#fb9f3a\"],[0.8888888888888888,\"#fdca26\"],[1.0,\"#f0f921\"]],\"type\":\"contour\"}],\"heatmapgl\":[{\"colorbar\":{\"outlinewidth\":0,\"ticks\":\"\"},\"colorscale\":[[0.0,\"#0d0887\"],[0.1111111111111111,\"#46039f\"],[0.2222222222222222,\"#7201a8\"],[0.3333333333333333,\"#9c179e\"],[0.4444444444444444,\"#bd3786\"],[0.5555555555555556,\"#d8576b\"],[0.6666666666666666,\"#ed7953\"],[0.7777777777777778,\"#fb9f3a\"],[0.8888888888888888,\"#fdca26\"],[1.0,\"#f0f921\"]],\"type\":\"heatmapgl\"}],\"heatmap\":[{\"colorbar\":{\"outlinewidth\":0,\"ticks\":\"\"},\"colorscale\":[[0.0,\"#0d0887\"],[0.1111111111111111,\"#46039f\"],[0.2222222222222222,\"#7201a8\"],[0.3333333333333333,\"#9c179e\"],[0.4444444444444444,\"#bd3786\"],[0.5555555555555556,\"#d8576b\"],[0.6666666666666666,\"#ed7953\"],[0.7777777777777778,\"#fb9f3a\"],[0.8888888888888888,\"#fdca26\"],[1.0,\"#f0f921\"]],\"type\":\"heatmap\"}],\"histogram2dcontour\":[{\"colorbar\":{\"outlinewidth\":0,\"ticks\":\"\"},\"colorscale\":[[0.0,\"#0d0887\"],[0.1111111111111111,\"#46039f\"],[0.2222222222222222,\"#7201a8\"],[0.3333333333333333,\"#9c179e\"],[0.4444444444444444,\"#bd3786\"],[0.5555555555555556,\"#d8576b\"],[0.6666666666666666,\"#ed7953\"],[0.7777777777777778,\"#fb9f3a\"],[0.8888888888888888,\"#fdca26\"],[1.0,\"#f0f921\"]],\"type\":\"histogram2dcontour\"}],\"histogram2d\":[{\"colorbar\":{\"outlinewidth\":0,\"ticks\":\"\"},\"colorscale\":[[0.0,\"#0d0887\"],[0.1111111111111111,\"#46039f\"],[0.2222222222222222,\"#7201a8\"],[0.3333333333333333,\"#9c179e\"],[0.4444444444444444,\"#bd3786\"],[0.5555555555555556,\"#d8576b\"],[0.6666666666666666,\"#ed7953\"],[0.7777777777777778,\"#fb9f3a\"],[0.8888888888888888,\"#fdca26\"],[1.0,\"#f0f921\"]],\"type\":\"histogram2d\"}],\"histogram\":[{\"marker\":{\"pattern\":{\"fillmode\":\"overlay\",\"size\":10,\"solidity\":0.2}},\"type\":\"histogram\"}],\"mesh3d\":[{\"colorbar\":{\"outlinewidth\":0,\"ticks\":\"\"},\"type\":\"mesh3d\"}],\"parcoords\":[{\"line\":{\"colorbar\":{\"outlinewidth\":0,\"ticks\":\"\"}},\"type\":\"parcoords\"}],\"pie\":[{\"automargin\":true,\"type\":\"pie\"}],\"scatter3d\":[{\"line\":{\"colorbar\":{\"outlinewidth\":0,\"ticks\":\"\"}},\"marker\":{\"colorbar\":{\"outlinewidth\":0,\"ticks\":\"\"}},\"type\":\"scatter3d\"}],\"scattercarpet\":[{\"marker\":{\"colorbar\":{\"outlinewidth\":0,\"ticks\":\"\"}},\"type\":\"scattercarpet\"}],\"scattergeo\":[{\"marker\":{\"colorbar\":{\"outlinewidth\":0,\"ticks\":\"\"}},\"type\":\"scattergeo\"}],\"scattergl\":[{\"marker\":{\"line\":{\"color\":\"#283442\"}},\"type\":\"scattergl\"}],\"scattermapbox\":[{\"marker\":{\"colorbar\":{\"outlinewidth\":0,\"ticks\":\"\"}},\"type\":\"scattermapbox\"}],\"scatterpolargl\":[{\"marker\":{\"colorbar\":{\"outlinewidth\":0,\"ticks\":\"\"}},\"type\":\"scatterpolargl\"}],\"scatterpolar\":[{\"marker\":{\"colorbar\":{\"outlinewidth\":0,\"ticks\":\"\"}},\"type\":\"scatterpolar\"}],\"scatter\":[{\"marker\":{\"line\":{\"color\":\"#283442\"}},\"type\":\"scatter\"}],\"scatterternary\":[{\"marker\":{\"colorbar\":{\"outlinewidth\":0,\"ticks\":\"\"}},\"type\":\"scatterternary\"}],\"surface\":[{\"colorbar\":{\"outlinewidth\":0,\"ticks\":\"\"},\"colorscale\":[[0.0,\"#0d0887\"],[0.1111111111111111,\"#46039f\"],[0.2222222222222222,\"#7201a8\"],[0.3333333333333333,\"#9c179e\"],[0.4444444444444444,\"#bd3786\"],[0.5555555555555556,\"#d8576b\"],[0.6666666666666666,\"#ed7953\"],[0.7777777777777778,\"#fb9f3a\"],[0.8888888888888888,\"#fdca26\"],[1.0,\"#f0f921\"]],\"type\":\"surface\"}],\"table\":[{\"cells\":{\"fill\":{\"color\":\"#506784\"},\"line\":{\"color\":\"rgb(17,17,17)\"}},\"header\":{\"fill\":{\"color\":\"#2a3f5f\"},\"line\":{\"color\":\"rgb(17,17,17)\"}},\"type\":\"table\"}]},\"layout\":{\"annotationdefaults\":{\"arrowcolor\":\"#f2f5fa\",\"arrowhead\":0,\"arrowwidth\":1},\"autotypenumbers\":\"strict\",\"coloraxis\":{\"colorbar\":{\"outlinewidth\":0,\"ticks\":\"\"}},\"colorscale\":{\"diverging\":[[0,\"#8e0152\"],[0.1,\"#c51b7d\"],[0.2,\"#de77ae\"],[0.3,\"#f1b6da\"],[0.4,\"#fde0ef\"],[0.5,\"#f7f7f7\"],[0.6,\"#e6f5d0\"],[0.7,\"#b8e186\"],[0.8,\"#7fbc41\"],[0.9,\"#4d9221\"],[1,\"#276419\"]],\"sequential\":[[0.0,\"#0d0887\"],[0.1111111111111111,\"#46039f\"],[0.2222222222222222,\"#7201a8\"],[0.3333333333333333,\"#9c179e\"],[0.4444444444444444,\"#bd3786\"],[0.5555555555555556,\"#d8576b\"],[0.6666666666666666,\"#ed7953\"],[0.7777777777777778,\"#fb9f3a\"],[0.8888888888888888,\"#fdca26\"],[1.0,\"#f0f921\"]],\"sequentialminus\":[[0.0,\"#0d0887\"],[0.1111111111111111,\"#46039f\"],[0.2222222222222222,\"#7201a8\"],[0.3333333333333333,\"#9c179e\"],[0.4444444444444444,\"#bd3786\"],[0.5555555555555556,\"#d8576b\"],[0.6666666666666666,\"#ed7953\"],[0.7777777777777778,\"#fb9f3a\"],[0.8888888888888888,\"#fdca26\"],[1.0,\"#f0f921\"]]},\"colorway\":[\"#636efa\",\"#EF553B\",\"#00cc96\",\"#ab63fa\",\"#FFA15A\",\"#19d3f3\",\"#FF6692\",\"#B6E880\",\"#FF97FF\",\"#FECB52\"],\"font\":{\"color\":\"#f2f5fa\"},\"geo\":{\"bgcolor\":\"rgb(17,17,17)\",\"lakecolor\":\"rgb(17,17,17)\",\"landcolor\":\"rgb(17,17,17)\",\"showlakes\":true,\"showland\":true,\"subunitcolor\":\"#506784\"},\"hoverlabel\":{\"align\":\"left\"},\"hovermode\":\"closest\",\"mapbox\":{\"style\":\"dark\"},\"paper_bgcolor\":\"rgb(17,17,17)\",\"plot_bgcolor\":\"rgb(17,17,17)\",\"polar\":{\"angularaxis\":{\"gridcolor\":\"#506784\",\"linecolor\":\"#506784\",\"ticks\":\"\"},\"bgcolor\":\"rgb(17,17,17)\",\"radialaxis\":{\"gridcolor\":\"#506784\",\"linecolor\":\"#506784\",\"ticks\":\"\"}},\"scene\":{\"xaxis\":{\"backgroundcolor\":\"rgb(17,17,17)\",\"gridcolor\":\"#506784\",\"gridwidth\":2,\"linecolor\":\"#506784\",\"showbackground\":true,\"ticks\":\"\",\"zerolinecolor\":\"#C8D4E3\"},\"yaxis\":{\"backgroundcolor\":\"rgb(17,17,17)\",\"gridcolor\":\"#506784\",\"gridwidth\":2,\"linecolor\":\"#506784\",\"showbackground\":true,\"ticks\":\"\",\"zerolinecolor\":\"#C8D4E3\"},\"zaxis\":{\"backgroundcolor\":\"rgb(17,17,17)\",\"gridcolor\":\"#506784\",\"gridwidth\":2,\"linecolor\":\"#506784\",\"showbackground\":true,\"ticks\":\"\",\"zerolinecolor\":\"#C8D4E3\"}},\"shapedefaults\":{\"line\":{\"color\":\"#f2f5fa\"}},\"sliderdefaults\":{\"bgcolor\":\"#C8D4E3\",\"bordercolor\":\"rgb(17,17,17)\",\"borderwidth\":1,\"tickwidth\":0},\"ternary\":{\"aaxis\":{\"gridcolor\":\"#506784\",\"linecolor\":\"#506784\",\"ticks\":\"\"},\"baxis\":{\"gridcolor\":\"#506784\",\"linecolor\":\"#506784\",\"ticks\":\"\"},\"bgcolor\":\"rgb(17,17,17)\",\"caxis\":{\"gridcolor\":\"#506784\",\"linecolor\":\"#506784\",\"ticks\":\"\"}},\"title\":{\"x\":0.05},\"updatemenudefaults\":{\"bgcolor\":\"#506784\",\"borderwidth\":0},\"xaxis\":{\"automargin\":true,\"gridcolor\":\"#283442\",\"linecolor\":\"#506784\",\"ticks\":\"\",\"title\":{\"standoff\":15},\"zerolinecolor\":\"#283442\",\"zerolinewidth\":2},\"yaxis\":{\"automargin\":true,\"gridcolor\":\"#283442\",\"linecolor\":\"#506784\",\"ticks\":\"\",\"title\":{\"standoff\":15},\"zerolinecolor\":\"#283442\",\"zerolinewidth\":2}}},\"geo\":{\"domain\":{\"x\":[0.0,1.0],\"y\":[0.0,1.0]},\"center\":{}},\"coloraxis\":{\"colorbar\":{\"title\":{\"text\":\"Confirmed\"}},\"colorscale\":[[0.0,\"#0d0887\"],[0.1111111111111111,\"#46039f\"],[0.2222222222222222,\"#7201a8\"],[0.3333333333333333,\"#9c179e\"],[0.4444444444444444,\"#bd3786\"],[0.5555555555555556,\"#d8576b\"],[0.6666666666666666,\"#ed7953\"],[0.7777777777777778,\"#fb9f3a\"],[0.8888888888888888,\"#fdca26\"],[1.0,\"#f0f921\"]]},\"legend\":{\"tracegroupgap\":0,\"itemsizing\":\"constant\"},\"margin\":{\"t\":60}},                        {\"responsive\": true}                    ).then(function(){\n",
       "                            \n",
       "var gd = document.getElementById('3929bb29-66f0-458b-baa5-83c2e4588190');\n",
       "var x = new MutationObserver(function (mutations, observer) {{\n",
       "        var display = window.getComputedStyle(gd).display;\n",
       "        if (!display || display === 'none') {{\n",
       "            console.log([gd, 'removed!']);\n",
       "            Plotly.purge(gd);\n",
       "            observer.disconnect();\n",
       "        }}\n",
       "}});\n",
       "\n",
       "// Listen for the removal of the full notebook cells\n",
       "var notebookContainer = gd.closest('#notebook-container');\n",
       "if (notebookContainer) {{\n",
       "    x.observe(notebookContainer, {childList: true});\n",
       "}}\n",
       "\n",
       "// Listen for the clearing of the current output cell\n",
       "var outputEl = gd.closest('.output');\n",
       "if (outputEl) {{\n",
       "    x.observe(outputEl, {childList: true});\n",
       "}}\n",
       "\n",
       "                        })                };                });            </script>        </div>"
      ]
     },
     "metadata": {},
     "output_type": "display_data"
    }
   ],
   "source": [
    "import plotly.express as px\n",
    "from data import countries_df\n",
    "df = countries_df\n",
    "fig = px.scatter_geo(df, \n",
    "                      size=\"Confirmed\",\n",
    "                     size_max= 40,\n",
    "                     hover_name='Country_Region',\n",
    "                     hover_data ={\n",
    "                        \n",
    "                         \"Country_Region\":False,\n",
    "                         'Confirmed':\":,\",\n",
    "                         'Deaths':\":,\",\n",
    "                         'Recovered':\":,\"},  \n",
    "                     color=\"Confirmed\", \n",
    "                     locations=\"Country_Region\",\n",
    "                     locationmode=\"country names\",\n",
    "                     template=\"plotly_dark\"\n",
    "                                    \n",
    "                     )\n",
    "\n",
    "fig.show()"
   ]
  },
  {
   "cell_type": "code",
   "execution_count": null,
   "id": "5218f712",
   "metadata": {},
   "outputs": [],
   "source": []
  }
 ],
 "metadata": {
  "kernelspec": {
   "display_name": "Python 3 (ipykernel)",
   "language": "python",
   "name": "python3"
  },
  "language_info": {
   "codemirror_mode": {
    "name": "ipython",
    "version": 3
   },
   "file_extension": ".py",
   "mimetype": "text/x-python",
   "name": "python",
   "nbconvert_exporter": "python",
   "pygments_lexer": "ipython3",
   "version": "3.9.7"
  }
 },
 "nbformat": 4,
 "nbformat_minor": 5
}
