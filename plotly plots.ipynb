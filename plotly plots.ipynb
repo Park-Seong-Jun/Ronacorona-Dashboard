{
 "cells": [
  {
   "cell_type": "code",
   "execution_count": 12,
   "id": "a905f447",
   "metadata": {},
   "outputs": [
    {
     "data": {
      "text/plain": [
       "0               Afghanistan\n",
       "1                   Albania\n",
       "2                   Algeria\n",
       "3                   Andorra\n",
       "4                    Angola\n",
       "               ...         \n",
       "195      West Bank and Gaza\n",
       "196    Winter Olympics 2022\n",
       "197                   Yemen\n",
       "198                  Zambia\n",
       "199                Zimbabwe\n",
       "Name: Country_Region, Length: 200, dtype: object"
      ]
     },
     "execution_count": 12,
     "metadata": {},
     "output_type": "execute_result"
    }
   ],
   "source": [
    "from data import countries_df\n",
    "\n",
    "df = countries_df.sort_values(\"Country_Region\")\n",
    "df = df[\"Country_Region\"].reset_index()\n",
    "df[\"Country_Region\"]\n"
   ]
  },
  {
   "cell_type": "code",
   "execution_count": null,
   "id": "5218f712",
   "metadata": {},
   "outputs": [],
   "source": []
  }
 ],
 "metadata": {
  "kernelspec": {
   "display_name": "Python 3 (ipykernel)",
   "language": "python",
   "name": "python3"
  },
  "language_info": {
   "codemirror_mode": {
    "name": "ipython",
    "version": 3
   },
   "file_extension": ".py",
   "mimetype": "text/x-python",
   "name": "python",
   "nbconvert_exporter": "python",
   "pygments_lexer": "ipython3",
   "version": "3.9.7"
  }
 },
 "nbformat": 4,
 "nbformat_minor": 5
}
